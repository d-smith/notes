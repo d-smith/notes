{
 "cells": [
  {
   "cell_type": "markdown",
   "metadata": {},
   "source": [
    "# API Gateway\n",
    "\n",
    "This book explores the API gateway using the AWS Python SDK\n",
    "\n",
    "Relevant documentation:\n",
    "\n",
    "* [Developer Guide](https://docs.aws.amazon.com/apigateway/latest/developerguide/welcome.html)\n",
    "* [AWS Python SDK Docs](https://aws.amazon.com/sdk-for-python/)"
   ]
  },
  {
   "cell_type": "code",
   "execution_count": 1,
   "metadata": {},
   "outputs": [],
   "source": [
    "import boto3\n",
    "\n",
    "apigw = boto3.client('apigateway')"
   ]
  },
  {
   "cell_type": "markdown",
   "metadata": {},
   "source": [
    "## Endpoint Type\n",
    "\n",
    "There are currently 3 endpoint types:\n",
    "\n",
    "* Edge optimized\n",
    "* Regional\n",
    "* Private"
   ]
  },
  {
   "cell_type": "code",
   "execution_count": null,
   "metadata": {},
   "outputs": [],
   "source": []
  }
 ],
 "metadata": {
  "kernelspec": {
   "display_name": "Python 3",
   "language": "python",
   "name": "python3"
  },
  "language_info": {
   "codemirror_mode": {
    "name": "ipython",
    "version": 3
   },
   "file_extension": ".py",
   "mimetype": "text/x-python",
   "name": "python",
   "nbconvert_exporter": "python",
   "pygments_lexer": "ipython3",
   "version": "3.6.4"
  }
 },
 "nbformat": 4,
 "nbformat_minor": 2
}
