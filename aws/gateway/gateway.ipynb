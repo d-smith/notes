{
 "cells": [
  {
   "cell_type": "markdown",
   "metadata": {},
   "source": [
    "# API Gateway\n",
    "\n",
    "This book explores the API gateway using the AWS Python SDK\n",
    "\n",
    "Relevant documentation:\n",
    "\n",
    "* [Developer Guide](https://docs.aws.amazon.com/apigateway/latest/developerguide/welcome.html)\n",
    "* [AWS Python SDK Docs](https://aws.amazon.com/sdk-for-python/)"
   ]
  },
  {
   "cell_type": "code",
   "execution_count": null,
   "metadata": {},
   "outputs": [],
   "source": [
    "import boto3\n",
    "\n",
    "apigw = boto3.client('apigateway')"
   ]
  },
  {
   "cell_type": "markdown",
   "metadata": {},
   "source": [
    "## Endpoint Type\n",
    "\n",
    "There are currently 3 endpoint types:\n",
    "\n",
    "* Edge optimized\n",
    "* Regional\n",
    "* Private"
   ]
  },
  {
   "cell_type": "markdown",
   "metadata": {},
   "source": [
    "## Create an API via Swagger Import\n",
    "\n",
    "This imports a swagger spec, that points to an exiting endpoint."
   ]
  },
  {
   "cell_type": "code",
   "execution_count": null,
   "metadata": {},
   "outputs": [],
   "source": [
    "apiSpec = '''{\n",
    "  \"swagger\": \"2.0\",\n",
    "  \"info\": {\n",
    "    \"title\": \"Simple Pet Store via Swagger Import\"\n",
    "  },\n",
    "  \"schemes\": [\n",
    "    \"https\"\n",
    "  ],\n",
    "  \"paths\": {\n",
    "    \"/pets\": {\n",
    "      \"get\": {\n",
    "        \"responses\": {\n",
    "          \"200\": {\n",
    "            \"description\": \"200 response\"\n",
    "          }\n",
    "        },\n",
    "        \"x-amazon-apigateway-integration\": {\n",
    "          \"responses\": {\n",
    "            \"default\": {\n",
    "              \"statusCode\": \"200\"\n",
    "            }\n",
    "          },\n",
    "          \"uri\": \"http://petstore-demo-endpoint.execute-api.com/petstore/pets\",\n",
    "          \"passthroughBehavior\": \"when_no_match\",\n",
    "          \"httpMethod\": \"GET\",\n",
    "          \"type\": \"http\"\n",
    "        }\n",
    "      }\n",
    "    },\n",
    "    \"/pets/{petId}\": {\n",
    "      \"get\": {\n",
    "        \"parameters\": [\n",
    "          {\n",
    "            \"name\": \"petId\",\n",
    "            \"in\": \"path\",\n",
    "            \"required\": true,\n",
    "            \"type\": \"string\"\n",
    "          }\n",
    "        ],\n",
    "        \"responses\": {\n",
    "          \"200\": {\n",
    "            \"description\": \"200 response\"\n",
    "          }\n",
    "        },\n",
    "        \"x-amazon-apigateway-integration\": {\n",
    "          \"responses\": {\n",
    "            \"default\": {\n",
    "              \"statusCode\": \"200\"\n",
    "            }\n",
    "          },\n",
    "          \"requestParameters\": {\n",
    "            \"integration.request.path.id\": \"method.request.path.petId\"\n",
    "          },\n",
    "          \"uri\": \"http://petstore-demo-endpoint.execute-api.com/petstore/pets/{id}\",\n",
    "          \"passthroughBehavior\": \"when_no_match\",\n",
    "          \"httpMethod\": \"GET\",\n",
    "          \"type\": \"http\"\n",
    "        }\n",
    "      }\n",
    "    }\n",
    "  }\n",
    "}\n",
    "'''"
   ]
  },
  {
   "cell_type": "code",
   "execution_count": null,
   "metadata": {},
   "outputs": [],
   "source": [
    "response = apigw.import_rest_api(\n",
    "    parameters={\n",
    "        'endpointConfigurationTypes':'REGIONAL'\n",
    "    },\n",
    "    body=apiSpec\n",
    ")"
   ]
  },
  {
   "cell_type": "code",
   "execution_count": null,
   "metadata": {},
   "outputs": [],
   "source": [
    "print(response)"
   ]
  },
  {
   "cell_type": "code",
   "execution_count": null,
   "metadata": {},
   "outputs": [],
   "source": [
    "restApiId = response['id']\n",
    "print(restApiId)"
   ]
  },
  {
   "cell_type": "code",
   "execution_count": null,
   "metadata": {},
   "outputs": [],
   "source": [
    "response = apigw.get_rest_api(\n",
    "    restApiId=restApiId\n",
    ")"
   ]
  },
  {
   "cell_type": "code",
   "execution_count": null,
   "metadata": {},
   "outputs": [],
   "source": [
    "print(response)"
   ]
  },
  {
   "cell_type": "markdown",
   "metadata": {},
   "source": [
    "### Clean Up"
   ]
  },
  {
   "cell_type": "code",
   "execution_count": null,
   "metadata": {},
   "outputs": [],
   "source": [
    "response = apigw.delete_rest_api(\n",
    "    restApiId=restApiId\n",
    ")"
   ]
  },
  {
   "cell_type": "code",
   "execution_count": null,
   "metadata": {},
   "outputs": [],
   "source": [
    "print(response)"
   ]
  },
  {
   "cell_type": "markdown",
   "metadata": {},
   "source": [
    "## API Spec with Lambda Proxy Integration"
   ]
  },
  {
   "cell_type": "markdown",
   "metadata": {},
   "source": [
    "### Create a Policy"
   ]
  },
  {
   "cell_type": "code",
   "execution_count": null,
   "metadata": {},
   "outputs": [],
   "source": [
    "iamclient = boto3.client('iam')"
   ]
  },
  {
   "cell_type": "code",
   "execution_count": null,
   "metadata": {},
   "outputs": [],
   "source": [
    "policyDoc='''{\n",
    "    \"Version\": \"2012-10-17\",\n",
    "    \"Statement\": [\n",
    "      {\n",
    "        \"Effect\": \"Allow\",\n",
    "        \"Action\": [\n",
    "          \"logs:CreateLogStream\",\n",
    "          \"logs:PutLogEvents\",\n",
    "          \"logs:CreateLogGroup\"\n",
    "        ],\n",
    "        \"Resource\": \"arn:aws:logs:*:*:*\"\n",
    "      }\n",
    "    ]\n",
    "}'''"
   ]
  },
  {
   "cell_type": "code",
   "execution_count": null,
   "metadata": {},
   "outputs": [],
   "source": [
    "response = iamclient.create_policy(\n",
    "    PolicyName='minimal-lambda',\n",
    "    Path='/',\n",
    "    PolicyDocument=policyDoc,\n",
    "    Description='minimal lambda policy'\n",
    ")"
   ]
  },
  {
   "cell_type": "code",
   "execution_count": null,
   "metadata": {},
   "outputs": [],
   "source": [
    "print(response)"
   ]
  },
  {
   "cell_type": "code",
   "execution_count": null,
   "metadata": {},
   "outputs": [],
   "source": [
    "policyResponse = response # Update above to just use policy response\n",
    "policyArn = policyResponse['Policy']['Arn']\n",
    "print(policyArn)"
   ]
  },
  {
   "cell_type": "markdown",
   "metadata": {},
   "source": [
    "### Create Role and Attach Policy"
   ]
  },
  {
   "cell_type": "code",
   "execution_count": null,
   "metadata": {},
   "outputs": [],
   "source": [
    "assumeRolePolicyDocument='''{\n",
    "    \"Version\": \"2012-10-17\",\n",
    "    \"Statement\": [\n",
    "      {\n",
    "        \"Effect\": \"Allow\",\n",
    "        \"Principal\": {\n",
    "          \"Service\": [\n",
    "            \"lambda.amazonaws.com\"\n",
    "          ]\n",
    "        },\n",
    "        \"Action\": [\n",
    "          \"sts:AssumeRole\"\n",
    "        ]\n",
    "      }\n",
    "    ]\n",
    "}'''"
   ]
  },
  {
   "cell_type": "code",
   "execution_count": null,
   "metadata": {},
   "outputs": [],
   "source": [
    "roleResponse = iamclient.create_role(\n",
    "    Path='/',\n",
    "    RoleName='minimal-lambda-role',\n",
    "    AssumeRolePolicyDocument=assumeRolePolicyDocument,\n",
    "    Description='minimal lambda role'\n",
    ")"
   ]
  },
  {
   "cell_type": "code",
   "execution_count": null,
   "metadata": {},
   "outputs": [],
   "source": [
    "print(roleResponse)"
   ]
  },
  {
   "cell_type": "code",
   "execution_count": null,
   "metadata": {},
   "outputs": [],
   "source": [
    "attachResponse = iamclient.attach_role_policy(\n",
    "    RoleName=roleResponse['Role']['RoleName'],\n",
    "    PolicyArn=policyArn\n",
    ")"
   ]
  },
  {
   "cell_type": "code",
   "execution_count": null,
   "metadata": {},
   "outputs": [],
   "source": [
    "print(attachResponse)"
   ]
  },
  {
   "cell_type": "markdown",
   "metadata": {},
   "source": [
    "### Create the Lambda"
   ]
  },
  {
   "cell_type": "code",
   "execution_count": null,
   "metadata": {},
   "outputs": [],
   "source": [
    "import random\n",
    "\n",
    "s3client = boto3.client('s3')\n",
    "\n",
    "# Bucket names are globally unique. Here we'll add a random element to the name to increase the odds of\n",
    "# avoiding a name collision\n",
    "bucket_name = 'ds-deploylambda-' + str(random.randint(1, 9999999))\n",
    "print(bucket_name)"
   ]
  },
  {
   "cell_type": "code",
   "execution_count": null,
   "metadata": {},
   "outputs": [],
   "source": [
    "response = s3client.create_bucket(\n",
    "    Bucket=bucket_name\n",
    ")\n",
    "\n",
    "print(response)"
   ]
  },
  {
   "cell_type": "code",
   "execution_count": null,
   "metadata": {},
   "outputs": [],
   "source": [
    "%%bash\n",
    "ls\n",
    "rm -rf code.zip\n",
    "zip code.zip ./index.js"
   ]
  },
  {
   "cell_type": "code",
   "execution_count": null,
   "metadata": {},
   "outputs": [],
   "source": [
    "s3 = boto3.resource('s3')\n",
    "response = s3.meta.client.upload_file('./code.zip', bucket_name, 'code.zip')\n",
    "print(response)"
   ]
  },
  {
   "cell_type": "code",
   "execution_count": null,
   "metadata": {},
   "outputs": [],
   "source": [
    "lambdaClient = boto3.client('lambda')"
   ]
  },
  {
   "cell_type": "code",
   "execution_count": null,
   "metadata": {},
   "outputs": [],
   "source": [
    "createLambdaFunctionResponse = lambdaClient.create_function(\n",
    "    FunctionName='petStoreStub',\n",
    "    Runtime='nodejs8.10',\n",
    "    Role=roleResponse['Role']['Arn'],\n",
    "    Handler='index.handler',\n",
    "     Code={\n",
    "        'S3Bucket': bucket_name,\n",
    "        'S3Key': 'code.zip'\n",
    "    }\n",
    ");\n",
    "\n",
    "print(createLambdaFunctionResponse)"
   ]
  },
  {
   "cell_type": "markdown",
   "metadata": {},
   "source": [
    "### Create the API with Proxy Integration\n",
    "\n",
    "First we need a role with the appropriate permissions to invoke the lambda from the gateway"
   ]
  },
  {
   "cell_type": "code",
   "execution_count": null,
   "metadata": {},
   "outputs": [],
   "source": [
    "# TODO - inject the lambda arn as the resource - don't use * once it is working\n",
    "\n",
    "policyDoc='''{\n",
    "    \"Version\": \"2012-10-17\",\n",
    "    \"Statement\": [\n",
    "      {\n",
    "        \"Effect\": \"Allow\",\n",
    "        \"Action\": [\n",
    "          \"lambda:InvokeFunction\"\n",
    "        ],\n",
    "        \"Resource\": \"*\"\n",
    "      }\n",
    "    ]\n",
    "}'''"
   ]
  },
  {
   "cell_type": "code",
   "execution_count": null,
   "metadata": {},
   "outputs": [],
   "source": [
    "lambdaPolicyResponse = iamclient.create_policy(\n",
    "    PolicyName='generic-gateway-call-lambda',\n",
    "    Path='/',\n",
    "    PolicyDocument=policyDoc,\n",
    "    Description='generic-gateway-call-lambda'\n",
    ")\n",
    "\n",
    "print(lambdaPolicyResponse)"
   ]
  },
  {
   "cell_type": "code",
   "execution_count": null,
   "metadata": {},
   "outputs": [],
   "source": [
    "lambdaPolicyArn = lambdaPolicyResponse['Policy']['Arn']\n",
    "print(lambdaPolicyArn)"
   ]
  },
  {
   "cell_type": "code",
   "execution_count": null,
   "metadata": {},
   "outputs": [],
   "source": [
    "gatewayRolePolicyDoc = '''{\n",
    "    \"Version\": \"2012-10-17\",\n",
    "    \"Statement\": [\n",
    "      {\n",
    "        \"Effect\": \"Allow\",\n",
    "        \"Principal\": {\n",
    "          \"Service\": [\n",
    "            \"apigateway.amazonaws.com\"\n",
    "          ]\n",
    "        },\n",
    "        \"Action\": [\n",
    "          \"sts:AssumeRole\"\n",
    "        ]\n",
    "      }\n",
    "    ]\n",
    "}'''"
   ]
  },
  {
   "cell_type": "code",
   "execution_count": null,
   "metadata": {},
   "outputs": [],
   "source": [
    "gatewayRoleResponse = iamclient.create_role(\n",
    "    Path='/',\n",
    "    RoleName='gateway-lambda-role',\n",
    "    AssumeRolePolicyDocument=gatewayRolePolicyDoc,\n",
    "    Description='generic gateway role'\n",
    ")\n",
    "\n",
    "print(gatewayRoleResponse)"
   ]
  },
  {
   "cell_type": "code",
   "execution_count": null,
   "metadata": {},
   "outputs": [],
   "source": [
    "attachResponse = iamclient.attach_role_policy(\n",
    "    RoleName=gatewayRoleResponse['Role']['RoleName'],\n",
    "    PolicyArn=lambdaPolicyArn\n",
    ")"
   ]
  },
  {
   "cell_type": "code",
   "execution_count": null,
   "metadata": {},
   "outputs": [],
   "source": [
    "print(attachResponse)"
   ]
  },
  {
   "cell_type": "code",
   "execution_count": null,
   "metadata": {},
   "outputs": [],
   "source": [
    "apiSpec = '''{\n",
    "  \"swagger\": \"2.0\",\n",
    "  \"info\": {\n",
    "    \"title\": \"Simple proxy API\"\n",
    "  },\n",
    "  \"schemes\": [\n",
    "    \"https\"\n",
    "  ],\n",
    "  \"paths\": {\n",
    "      \"/{proxy+}\": {\n",
    "         \"x-amazon-apigateway-any-method\": {\n",
    "            \"parameters\": [\n",
    "               {\n",
    "                  \"name\": \"proxy\",\n",
    "                  \"in\": \"path\",\n",
    "                  \"required\": true,\n",
    "                  \"schema\": {\n",
    "                     \"type\": \"string\"\n",
    "                  }\n",
    "               }\n",
    "            ],\n",
    "            \"responses\": {},\n",
    "            \"x-amazon-apigateway-integration\": {\n",
    "               \"credentials\":\"'''\n",
    "apiSpec = apiSpec + gatewayRoleResponse['Role']['Arn']\n",
    "apiSpec = apiSpec + '''\",\n",
    "               \"responses\": {\n",
    "                  \"default\": {\n",
    "                     \"statusCode\": \"200\"\n",
    "                  }\n",
    "               },\n",
    "               \"uri\": \"arn:aws:apigateway:us-east-1:lambda:path/2015-03-31/functions/'''\n"
   ]
  },
  {
   "cell_type": "code",
   "execution_count": null,
   "metadata": {},
   "outputs": [],
   "source": [
    "apiSpec = apiSpec + createLambdaFunctionResponse['FunctionArn'] \n",
    "apiSpec = apiSpec + '''/invocations\",\n",
    "               \"passthroughBehavior\": \"when_no_match\",\n",
    "               \"httpMethod\": \"POST\",\n",
    "               \"cacheNamespace\": \"roq9wj\",\n",
    "               \"cacheKeyParameters\": [\n",
    "                  \"method.request.path.proxy\"\n",
    "               ],\n",
    "               \"type\": \"aws_proxy\"\n",
    "            }\n",
    "         }\n",
    "      }\n",
    "   }\n",
    "}\n",
    "'''\n",
    "print(apiSpec)\n"
   ]
  },
  {
   "cell_type": "code",
   "execution_count": null,
   "metadata": {},
   "outputs": [],
   "source": [
    "response = apigw.import_rest_api(\n",
    "    parameters={\n",
    "        'endpointConfigurationTypes':'REGIONAL'\n",
    "    },\n",
    "    body=apiSpec\n",
    ")\n",
    "print(response)"
   ]
  },
  {
   "cell_type": "code",
   "execution_count": null,
   "metadata": {},
   "outputs": [],
   "source": [
    "restApiId = response['id']\n",
    "print(restApiId)"
   ]
  },
  {
   "cell_type": "code",
   "execution_count": null,
   "metadata": {},
   "outputs": [],
   "source": [
    "response = apigw.get_rest_api(\n",
    "    restApiId=restApiId\n",
    ")"
   ]
  },
  {
   "cell_type": "code",
   "execution_count": null,
   "metadata": {},
   "outputs": [],
   "source": [
    "print(response)"
   ]
  },
  {
   "cell_type": "markdown",
   "metadata": {},
   "source": [
    "### Lambda with Custom Integration"
   ]
  },
  {
   "cell_type": "code",
   "execution_count": null,
   "metadata": {},
   "outputs": [],
   "source": [
    "apiSpec = '''{\n",
    "   \"swagger\":\"2.0\",\n",
    "   \"info\":{\n",
    "      \"version\":\"2019-02-08\",\n",
    "      \"title\":\"greeter\"\n",
    "   },\n",
    "   \"basePath\":\"/\",\n",
    "   \"schemes\":[\n",
    "      \"https\"\n",
    "   ],\n",
    "   \"paths\":{\n",
    "      \"/hello\":{\n",
    "         \"post\":{\n",
    "            \"consumes\":[\n",
    "               \"application/json\"\n",
    "            ],\n",
    "            \"produces\":[\n",
    "               \"application/json\"\n",
    "            ],\n",
    "            \"parameters\":[\n",
    "               {\n",
    "                  \"in\":\"body\",\n",
    "                  \"name\":\"Input\",\n",
    "                  \"required\":true,\n",
    "                  \"schema\":{\n",
    "                     \"$ref\":\"#/definitions/Input\"\n",
    "                  }\n",
    "               }\n",
    "            ],\n",
    "            \"responses\":{\n",
    "               \"200\":{\n",
    "                  \"description\":\"200 response\",\n",
    "                  \"schema\":{\n",
    "                     \"$ref\":\"#/definitions/Result\"\n",
    "                  }\n",
    "               }\n",
    "            },\n",
    "            \"x-amazon-apigateway-request-validator\": \"Validate body\",\n",
    "            \"x-amazon-apigateway-integration\": {\n",
    "               \"credentials\":\"'''\n",
    "\n",
    "apiSpec = apiSpec + gatewayRoleResponse['Role']['Arn']\n",
    "apiSpec = apiSpec + '''\",\n",
    "               \"responses\": {\n",
    "                  \"default\": {\n",
    "                     \"statusCode\": \"200\"\n",
    "                  }\n",
    "               },\n",
    "               \"uri\": \"arn:aws:apigateway:us-east-1:lambda:path/2015-03-31/functions/'''\n",
    "\n",
    "apiSpec = apiSpec + createLambdaFunctionResponse['FunctionArn'] \n",
    "apiSpec = apiSpec + '''/invocations\",\n",
    "              \"passthroughBehavior\":\"when_no_templates\",\n",
    "              \"httpMethod\":\"POST\",\n",
    "              \"type\":\"aws\"\n",
    "            }\n",
    "         }\n",
    "      }\n",
    "   },\n",
    "   \"definitions\":{\n",
    "      \"Input\":{\n",
    "         \"type\":\"object\",\n",
    "         \"required\":[\n",
    "            \"name\",\n",
    "            \"salutation\"\n",
    "         ],\n",
    "         \"properties\":{\n",
    "            \"name\":{\n",
    "               \"type\":\"string\"\n",
    "            },\n",
    "            \"salutation\":{\n",
    "               \"type\":\"string\"\n",
    "            }\n",
    "         }\n",
    "      },\n",
    "      \"Result\":{\n",
    "         \"type\":\"object\",\n",
    "         \"properties\":{\n",
    "            \"greeting\":{\n",
    "               \"type\":\"string\"\n",
    "            }\n",
    "         }\n",
    "      }\n",
    "   },\n",
    "   \n",
    "  \"x-amazon-apigateway-request-validators\": {\n",
    "    \"Validate body\": {\n",
    "      \"validateRequestParameters\": false,\n",
    "      \"validateRequestBody\": true\n",
    "    }\n",
    "  }\n",
    "}'''"
   ]
  },
  {
   "cell_type": "code",
   "execution_count": null,
   "metadata": {},
   "outputs": [],
   "source": [
    "print(apiSpec)"
   ]
  },
  {
   "cell_type": "code",
   "execution_count": null,
   "metadata": {},
   "outputs": [],
   "source": [
    "response = apigw.import_rest_api(\n",
    "    parameters={\n",
    "        'endpointConfigurationTypes':'REGIONAL'\n",
    "    },\n",
    "    body=apiSpec\n",
    ")\n",
    "print(response)"
   ]
  },
  {
   "cell_type": "code",
   "execution_count": null,
   "metadata": {},
   "outputs": [],
   "source": [
    "restApiId = response['id']\n",
    "print(restApiId)"
   ]
  },
  {
   "cell_type": "code",
   "execution_count": null,
   "metadata": {},
   "outputs": [],
   "source": [
    "response = apigw.get_rest_api(\n",
    "    restApiId=restApiId\n",
    ")"
   ]
  },
  {
   "cell_type": "code",
   "execution_count": null,
   "metadata": {},
   "outputs": [],
   "source": [
    "print(response)"
   ]
  },
  {
   "cell_type": "markdown",
   "metadata": {},
   "source": [
    "### Clean Up"
   ]
  },
  {
   "cell_type": "code",
   "execution_count": null,
   "metadata": {},
   "outputs": [],
   "source": [
    "response = apigw.delete_rest_api(\n",
    "    restApiId=restApiId\n",
    ")\n",
    "print(response)"
   ]
  },
  {
   "cell_type": "code",
   "execution_count": null,
   "metadata": {},
   "outputs": [],
   "source": [
    "response = iamclient.detach_role_policy(\n",
    "    RoleName=gatewayRoleResponse['Role']['RoleName'],\n",
    "    PolicyArn=lambdaPolicyArn\n",
    ")\n",
    "\n",
    "print(response)"
   ]
  },
  {
   "cell_type": "code",
   "execution_count": null,
   "metadata": {},
   "outputs": [],
   "source": [
    "response = iamclient.delete_role(\n",
    "    RoleName=gatewayRoleResponse['Role']['RoleName']\n",
    ")\n",
    "print(response)"
   ]
  },
  {
   "cell_type": "code",
   "execution_count": null,
   "metadata": {},
   "outputs": [],
   "source": [
    "response = iamclient.delete_policy(\n",
    "    PolicyArn=lambdaPolicyArn\n",
    ")\n",
    "print(response)"
   ]
  },
  {
   "cell_type": "code",
   "execution_count": null,
   "metadata": {},
   "outputs": [],
   "source": [
    "response = lambdaClient.delete_function(\n",
    "    FunctionName='petStoreStub'\n",
    ")\n",
    "\n",
    "print(response)"
   ]
  },
  {
   "cell_type": "code",
   "execution_count": null,
   "metadata": {},
   "outputs": [],
   "source": [
    "response = s3client.delete_object(\n",
    "        Bucket=bucket_name,\n",
    "        Key='code.zip'\n",
    ")\n",
    "\n",
    "print(response)"
   ]
  },
  {
   "cell_type": "code",
   "execution_count": null,
   "metadata": {},
   "outputs": [],
   "source": [
    "response = s3client.delete_bucket(\n",
    "    Bucket=bucket_name\n",
    ")\n",
    "\n",
    "print(response)"
   ]
  },
  {
   "cell_type": "code",
   "execution_count": null,
   "metadata": {},
   "outputs": [],
   "source": [
    "response = iamclient.detach_role_policy(\n",
    "    RoleName=roleResponse['Role']['RoleName'],\n",
    "    PolicyArn=policyArn\n",
    ")\n",
    "\n",
    "print(response)"
   ]
  },
  {
   "cell_type": "code",
   "execution_count": null,
   "metadata": {},
   "outputs": [],
   "source": [
    "response = iamclient.delete_role(\n",
    "    RoleName=roleResponse['Role']['RoleName']\n",
    ")\n",
    "print(response)"
   ]
  },
  {
   "cell_type": "code",
   "execution_count": null,
   "metadata": {},
   "outputs": [],
   "source": [
    "response = iamclient.delete_policy(\n",
    "    PolicyArn=policyArn\n",
    ")\n",
    "print(response)"
   ]
  },
  {
   "cell_type": "code",
   "execution_count": null,
   "metadata": {},
   "outputs": [],
   "source": []
  },
  {
   "cell_type": "code",
   "execution_count": null,
   "metadata": {},
   "outputs": [],
   "source": []
  }
 ],
 "metadata": {
  "kernelspec": {
   "display_name": "Python 3",
   "language": "python",
   "name": "python3"
  },
  "language_info": {
   "codemirror_mode": {
    "name": "ipython",
    "version": 3
   },
   "file_extension": ".py",
   "mimetype": "text/x-python",
   "name": "python",
   "nbconvert_exporter": "python",
   "pygments_lexer": "ipython3",
   "version": "3.6.5"
  }
 },
 "nbformat": 4,
 "nbformat_minor": 2
}
